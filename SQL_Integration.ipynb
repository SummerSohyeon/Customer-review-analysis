{
  "nbformat": 4,
  "nbformat_minor": 0,
  "metadata": {
    "colab": {
      "provenance": []
    },
    "kernelspec": {
      "name": "python3",
      "display_name": "Python 3"
    },
    "language_info": {
      "name": "python"
    }
  },
  "cells": [
    {
      "cell_type": "code",
      "execution_count": null,
      "metadata": {
        "id": "x82TcgabUBOu"
      },
      "outputs": [],
      "source": [
        "import sqlite3\n",
        "import pandas as pd"
      ]
    },
    {
      "cell_type": "code",
      "source": [
        "conn = sqlite3.connect('vacuum_reviews.db')"
      ],
      "metadata": {
        "id": "bhqcnNmeVUSl"
      },
      "execution_count": null,
      "outputs": []
    },
    {
      "cell_type": "code",
      "source": [
        "df1 = pd.read_csv('preprocessed_vacuum_reviews.csv')\n",
        "df2 = pd.read_csv('vacuum_reviews.csv')"
      ],
      "metadata": {
        "id": "hNuwpORSVXAe"
      },
      "execution_count": null,
      "outputs": []
    },
    {
      "cell_type": "code",
      "source": [
        "df1.to_sql('preprocessed_vacuum_reviews', conn, if_exists='replace', index=False)\n",
        "df2.to_sql('vacuum_reviews', conn, if_exists='replace', index=False)"
      ],
      "metadata": {
        "colab": {
          "base_uri": "https://localhost:8080/"
        },
        "id": "TVBa_mJDVZA7",
        "outputId": "8e53ecdf-78f1-4a9a-c88e-e658d5b7c00e"
      },
      "execution_count": null,
      "outputs": [
        {
          "output_type": "execute_result",
          "data": {
            "text/plain": [
              "10"
            ]
          },
          "metadata": {},
          "execution_count": 5
        }
      ]
    },
    {
      "cell_type": "markdown",
      "source": [
        "# Vacuum Reviews"
      ],
      "metadata": {
        "id": "UwK1GP4SaiUh"
      }
    },
    {
      "cell_type": "code",
      "source": [
        "#Count the number of reviews in the dataset\n",
        "query = \"SELECT COUNT(*) AS num_reviews FROM vacuum_reviews;\"\n",
        "df = pd.read_sql(query, conn)\n",
        "# print the dataframe\n",
        "print(df)"
      ],
      "metadata": {
        "colab": {
          "base_uri": "https://localhost:8080/"
        },
        "id": "bJ2p1kwnaB8R",
        "outputId": "4e8ce0fb-71f5-49c8-8a2a-6cf79b1acdc1"
      },
      "execution_count": null,
      "outputs": [
        {
          "output_type": "stream",
          "name": "stdout",
          "text": [
            "   num_reviews\n",
            "0           10\n"
          ]
        }
      ]
    },
    {
      "cell_type": "code",
      "source": [
        "#Count the number of reviews for each star rating\n",
        "query = \"SELECT `Star Rating`, COUNT(*) AS num_reviews FROM vacuum_reviews GROUP BY `Star Rating`;\"\n",
        "df = pd.read_sql(query, conn)\n",
        "# print the dataframe\n",
        "print(df)\n",
        "\n"
      ],
      "metadata": {
        "colab": {
          "base_uri": "https://localhost:8080/"
        },
        "id": "I4zmCuj9a4i4",
        "outputId": "76e0a58c-0939-4f2a-a18b-28362d1213a4"
      },
      "execution_count": null,
      "outputs": [
        {
          "output_type": "stream",
          "name": "stdout",
          "text": [
            "   Star Rating  num_reviews\n",
            "0          3.0            1\n",
            "1          4.0            9\n"
          ]
        }
      ]
    },
    {
      "cell_type": "code",
      "source": [
        "#Show the number of reviews for each location, sorted by the number of reviews:\n",
        "query = \"SELECT `Location`, COUNT(*) AS num_reviews FROM vacuum_reviews GROUP BY `Location` ORDER BY num_reviews DESC;\"\n",
        "df = pd.read_sql(query, conn)\n",
        "# print the dataframe\n",
        "print(df)\n"
      ],
      "metadata": {
        "colab": {
          "base_uri": "https://localhost:8080/"
        },
        "id": "5LYOz3BAblS3",
        "outputId": "8318dcf1-1510-4068-f35c-d714491b2839"
      },
      "execution_count": null,
      "outputs": [
        {
          "output_type": "stream",
          "name": "stdout",
          "text": [
            "        Location  num_reviews\n",
            "0  United States           10\n"
          ]
        }
      ]
    },
    {
      "cell_type": "code",
      "source": [
        "#Show the average star rating for reviews written in 2022:\n",
        "query = \"SELECT AVG(`Star Rating`) AS avg_rating FROM vacuum_reviews ;\"\n",
        "df = pd.read_sql(query, conn)\n",
        "# print the dataframe\n",
        "print(df)\n"
      ],
      "metadata": {
        "colab": {
          "base_uri": "https://localhost:8080/"
        },
        "id": "8zJx_UT6bz6A",
        "outputId": "1868d3ab-32c7-4831-f498-37a1cc67cd68"
      },
      "execution_count": null,
      "outputs": [
        {
          "output_type": "stream",
          "name": "stdout",
          "text": [
            "   avg_rating\n",
            "0         3.9\n"
          ]
        }
      ]
    },
    {
      "cell_type": "markdown",
      "source": [
        "# Preprocessed Vacuum Reviews"
      ],
      "metadata": {
        "id": "zartYFy_aajp"
      }
    },
    {
      "cell_type": "code",
      "source": [
        "# run a SQL query to view the data in the vacuum_reviews table\n",
        "query = 'SELECT * FROM vacuum_reviews'\n",
        "df = pd.read_sql(query, conn)\n",
        "# print the dataframe\n",
        "print(df.head())"
      ],
      "metadata": {
        "colab": {
          "base_uri": "https://localhost:8080/"
        },
        "id": "jnFCf6SGVhI5",
        "outputId": "d9817a3d-7470-4fe6-b9ba-2a22b2f58654"
      },
      "execution_count": null,
      "outputs": [
        {
          "output_type": "stream",
          "name": "stdout",
          "text": [
            "             Reviewer Name  Star Rating               Date       Location  \\\n",
            "0           Lydia Martinez          4.0  February 20, 2023  United States   \n",
            "1                   Ohukno          4.0      June 18, 2021  United States   \n",
            "2                Nicole N.          4.0      March 3, 2023  United States   \n",
            "3  Jacquelyn B. VINE VOICE          4.0   January 18, 2023  United States   \n",
            "4           Liz Curruchich          4.0   January 16, 2023  United States   \n",
            "\n",
            "                                               Title  \\\n",
            "0                                             Yes x3   \n",
            "1                        Good device with some flaws   \n",
            "2                          Great for quick clean ups   \n",
            "3  nice accessories for a car, but I prefer a mor...   \n",
            "4                 Works great with powerful suction!   \n",
            "\n",
            "                                      Review Content  \n",
            "0  I was so skeptical at the time i opened it n s...  \n",
            "1  I wish I would've taken a before and after pic...  \n",
            "2  This little vacuum is better than I expected i...  \n",
            "3  Color: BlackVerified Purchase\\nThis is a cute ...  \n",
            "4  The vacuum worked great! Husband and I took a ...  \n"
          ]
        }
      ]
    },
    {
      "cell_type": "code",
      "source": [
        "query = 'SELECT * FROM vacuum_reviews WHERE [Star rating] = 3.0'\n",
        "df = pd.read_sql(query, conn)\n",
        "# print the dataframe\n",
        "print(df)"
      ],
      "metadata": {
        "colab": {
          "base_uri": "https://localhost:8080/"
        },
        "id": "M6c4_Ok_WG6b",
        "outputId": "ebefbf1f-dcd8-42d4-e67a-9563882f7b69"
      },
      "execution_count": null,
      "outputs": [
        {
          "output_type": "stream",
          "name": "stdout",
          "text": [
            "   Reviewer Name  Star Rating              Date       Location  \\\n",
            "0  cynthia perez          3.0  January 16, 2023  United States   \n",
            "\n",
            "                                               Title  \\\n",
            "0  Good for what it's worth...suction could be be...   \n",
            "\n",
            "                                      Review Content  \n",
            "0  I received this as a Xmas gift, which I really...  \n"
          ]
        }
      ]
    },
    {
      "cell_type": "code",
      "source": [
        "#Count the number of reviews in the dataset\n",
        "query = 'SELECT COUNT(*) AS num_reviews FROM preprocessed_vacuum_reviews'\n",
        "df = pd.read_sql(query, conn)\n",
        "# print the dataframe\n",
        "print(df)\n"
      ],
      "metadata": {
        "colab": {
          "base_uri": "https://localhost:8080/"
        },
        "id": "CYPNptFjWM_n",
        "outputId": "149d4129-d859-4a93-8688-7915ad077e97"
      },
      "execution_count": null,
      "outputs": [
        {
          "output_type": "stream",
          "name": "stdout",
          "text": [
            "   num_reviews\n",
            "0          100\n"
          ]
        }
      ]
    },
    {
      "cell_type": "code",
      "source": [
        "#Count the number of reviews for each star rating\n",
        "query = 'SELECT `Star rating`, COUNT(*) AS num_reviews FROM preprocessed_vacuum_reviews GROUP BY `Star rating`;'\n",
        "df = pd.read_sql(query, conn)\n",
        "# print the dataframe\n",
        "print(df)\n"
      ],
      "metadata": {
        "colab": {
          "base_uri": "https://localhost:8080/"
        },
        "id": "rFowsfGHYwPf",
        "outputId": "9a3b887e-756e-4b87-e021-2dcb88158d65"
      },
      "execution_count": null,
      "outputs": [
        {
          "output_type": "stream",
          "name": "stdout",
          "text": [
            "   Star Rating  num_reviews\n",
            "0          3.0            5\n",
            "1          4.0           66\n",
            "2          5.0           29\n"
          ]
        }
      ]
    },
    {
      "cell_type": "code",
      "source": [
        "Show the top 10 most common words in the lemmatized tokens column\n",
        "query = 'SELECT [lemmatized_tokens], COUNT(*) AS count FROM preprocessed_vacuum_reviews GROUP BY [lemmatized_tokens] ORDER BY count DESC LIMIT 10;'\n",
        "df = pd.read_sql(query, conn)\n",
        "# print the dataframe\n",
        "print(df)\n"
      ],
      "metadata": {
        "colab": {
          "base_uri": "https://localhost:8080/"
        },
        "id": "NiN8MbjMZBIQ",
        "outputId": "a1ba7c6e-d212-4d25-9eca-f77675dd5a71"
      },
      "execution_count": null,
      "outputs": [
        {
          "output_type": "stream",
          "name": "stdout",
          "text": [
            "                                   lemmatized_tokens  count\n",
            "0  ['worked', 'perfectly', 'new', 'car', 'cleaned...      1\n",
            "1         ['work', 'well', 'store', 'nicely', 'car']      1\n",
            "2  ['work', 'pretty', 'well', 'minor', 'pick', 'u...      1\n",
            "3  ['work', 'okay', 'paid', 'pick', 'big', 'thing...      1\n",
            "4  ['work', 'great', 'deep', 'cleaning', 'definit...      1\n",
            "5  ['work', 'better', 'commercial', 'vacuum', 're...      1\n",
            "6  ['work', 'amazing', 'car', 'extra', 'attachmen...      1\n",
            "7  ['wont', 'suck', 'auto', 'floor', 'husband', '...      1\n",
            "8  ['wish', 'wouldve', 'taken', 'picture', 'youll...      1\n",
            "9  ['wish', 'little', 'suction', 'power', 'great'...      1\n"
          ]
        }
      ]
    },
    {
      "cell_type": "code",
      "source": [
        "#get the most frequent words used in the lemmatized tokens column, sorted by frequency:\n",
        "query = \"SELECT `lemmatized_tokens`, COUNT(*) AS freq FROM preprocessed_vacuum_reviews GROUP BY `lemmatized_tokens` ORDER BY freq DESC;\"\n",
        "df = pd.read_sql(query, conn)\n",
        "# print the dataframe\n",
        "print(df)\n",
        "\n"
      ],
      "metadata": {
        "colab": {
          "base_uri": "https://localhost:8080/"
        },
        "id": "iBrrIdnAiYBq",
        "outputId": "56a48ac5-6e62-4ebc-f6e2-96efa442ca10"
      },
      "execution_count": null,
      "outputs": [
        {
          "output_type": "stream",
          "name": "stdout",
          "text": [
            "                                    lemmatized_tokens  freq\n",
            "0   ['worked', 'perfectly', 'new', 'car', 'cleaned...     1\n",
            "1          ['work', 'well', 'store', 'nicely', 'car']     1\n",
            "2   ['work', 'pretty', 'well', 'minor', 'pick', 'u...     1\n",
            "3   ['work', 'okay', 'paid', 'pick', 'big', 'thing...     1\n",
            "4   ['work', 'great', 'deep', 'cleaning', 'definit...     1\n",
            "..                                                ...   ...\n",
            "95  ['bought', 'gift', 'daughter', 'said', 'ok', '...     1\n",
            "96  ['attachment', 'need', 'good', 'suction', 'str...     1\n",
            "97  ['appreciate', 'car', 'plug', 'option', 'im', ...     1\n",
            "98  ['always', 'trunk', 'child', 'always', 'eat', ...     1\n",
            "99  ['although', 'isnt', 'strongest', 'suctioning'...     1\n",
            "\n",
            "[100 rows x 2 columns]\n"
          ]
        }
      ]
    },
    {
      "cell_type": "code",
      "source": [
        "#count the number of reviews that have a star rating greater than or equal to 4 and contain the words \"work\" and \"great\" in the title:\n",
        "query = \"SELECT COUNT(*) FROM preprocessed_vacuum_reviews WHERE `Star Rating` >= 4 AND `Title` LIKE '%work%' AND `Title` LIKE '%great%';\"\n",
        "df = pd.read_sql(query, conn)\n",
        "# print the dataframe\n",
        "print(df)\n"
      ],
      "metadata": {
        "colab": {
          "base_uri": "https://localhost:8080/"
        },
        "id": "bj4cjASzjWFy",
        "outputId": "eb898573-3c47-4b4b-91d1-96e7bace22df"
      },
      "execution_count": null,
      "outputs": [
        {
          "output_type": "stream",
          "name": "stdout",
          "text": [
            "   COUNT(*)\n",
            "0         5\n"
          ]
        }
      ]
    },
    {
      "cell_type": "code",
      "source": [
        "#Show the average star rating for reviews with the word \"suction\" in the lemmatized tokens column\n",
        "query = \"SELECT AVG(`Star rating`) AS avg_rating FROM preprocessed_vacuum_reviews WHERE `lemmatized_tokens` LIKE '%suction%'\"\n",
        "df = pd.read_sql(query, conn)\n",
        "# print the dataframe\n",
        "print(df)\n"
      ],
      "metadata": {
        "colab": {
          "base_uri": "https://localhost:8080/"
        },
        "id": "J2ZhVJCCZnh0",
        "outputId": "d6beda30-4c13-4b00-8a8d-6712dc15cc41"
      },
      "execution_count": null,
      "outputs": [
        {
          "output_type": "stream",
          "name": "stdout",
          "text": [
            "   avg_rating\n",
            "0    4.023256\n"
          ]
        }
      ]
    },
    {
      "cell_type": "code",
      "source": [
        "#Show the average star rating for reviews with the word \"suction\" in the lemmatized tokens column\n",
        "query = \"SELECT AVG(`Star rating`) AS avg_rating FROM preprocessed_vacuum_reviews WHERE `lemmatized_tokens` LIKE '%power%'\"\n",
        "df = pd.read_sql(query, conn)\n",
        "# print the dataframe\n",
        "print(df)"
      ],
      "metadata": {
        "colab": {
          "base_uri": "https://localhost:8080/"
        },
        "id": "U19EHW8CbHNs",
        "outputId": "47193687-5a36-4c1e-a337-0758156933d2"
      },
      "execution_count": null,
      "outputs": [
        {
          "output_type": "stream",
          "name": "stdout",
          "text": [
            "   avg_rating\n",
            "0    4.222222\n"
          ]
        }
      ]
    },
    {
      "cell_type": "code",
      "source": [
        "#count the number of reviews that have a star rating of 4 and contain the word \"perfect\" in the title:\n",
        "query = \"SELECT COUNT(*) FROM preprocessed_vacuum_reviews WHERE `Star rating` = 4 AND `Title` LIKE '%perfect%';\"\n",
        "df = pd.read_sql(query, conn)\n",
        "# print the dataframe\n",
        "print(df)"
      ],
      "metadata": {
        "colab": {
          "base_uri": "https://localhost:8080/"
        },
        "id": "9QT0ndV7iX6Q",
        "outputId": "3232e986-c1e4-4f2b-b40a-63aae6b8d7e8"
      },
      "execution_count": null,
      "outputs": [
        {
          "output_type": "stream",
          "name": "stdout",
          "text": [
            "   COUNT(*)\n",
            "0         3\n"
          ]
        }
      ]
    },
    {
      "cell_type": "markdown",
      "source": [
        "# Merge tables"
      ],
      "metadata": {
        "id": "xd52vjfbdpxX"
      }
    },
    {
      "cell_type": "code",
      "source": [
        "#Inner Join - the rows where there is a match in both tables\n",
        "query = \"SELECT vr.`Star Rating`, pv.`Title`, vr.`Reviewer Name`, vr.`Date`, vr.`Location` \\\n",
        "FROM vacuum_reviews AS vr \\\n",
        "INNER JOIN preprocessed_vacuum_reviews AS pv \\\n",
        "ON vr.`Star Rating` = pv.`Star rating`;\"\n",
        "\n",
        "df = pd.read_sql(query, conn)\n",
        "print(df)\n"
      ],
      "metadata": {
        "colab": {
          "base_uri": "https://localhost:8080/"
        },
        "id": "lUpQuAgGfCO6",
        "outputId": "4116036f-71db-4b69-89f2-fdaf2b70b8e5"
      },
      "execution_count": null,
      "outputs": [
        {
          "output_type": "stream",
          "name": "stdout",
          "text": [
            "     Star Rating                                              Title  \\\n",
            "0            4.0  Arrived in good condition and is surprisingly ...   \n",
            "1            4.0                                            Awesome   \n",
            "2            4.0                      Beautiful but not that strong   \n",
            "3            4.0                                         Car Vacuum   \n",
            "4            4.0  Cleaning the filter frequently during long ses...   \n",
            "..           ...                                                ...   \n",
            "594          4.0                           Worth the money for sure   \n",
            "595          4.0                                             Yes x3   \n",
            "596          4.0                             great on the go vacuum   \n",
            "597          4.0  nice accessories for a car, but I prefer a mor...   \n",
            "598          4.0                                                 ok   \n",
            "\n",
            "      Reviewer Name               Date       Location  \n",
            "0    Lydia Martinez  February 20, 2023  United States  \n",
            "1    Lydia Martinez  February 20, 2023  United States  \n",
            "2    Lydia Martinez  February 20, 2023  United States  \n",
            "3    Lydia Martinez  February 20, 2023  United States  \n",
            "4    Lydia Martinez  February 20, 2023  United States  \n",
            "..              ...                ...            ...  \n",
            "594  Leslie Morales     March 13, 2023  United States  \n",
            "595  Leslie Morales     March 13, 2023  United States  \n",
            "596  Leslie Morales     March 13, 2023  United States  \n",
            "597  Leslie Morales     March 13, 2023  United States  \n",
            "598  Leslie Morales     March 13, 2023  United States  \n",
            "\n",
            "[599 rows x 5 columns]\n"
          ]
        }
      ]
    }
  ]
}